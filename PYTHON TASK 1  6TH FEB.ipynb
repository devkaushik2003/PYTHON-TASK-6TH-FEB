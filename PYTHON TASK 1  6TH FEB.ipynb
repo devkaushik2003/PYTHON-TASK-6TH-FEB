{
 "cells": [
  {
   "cell_type": "code",
   "execution_count": null,
   "id": "70ee54c2-db7e-40af-b937-a9eec1877ee3",
   "metadata": {
    "tags": []
   },
   "outputs": [],
   "source": []
  },
  {
   "cell_type": "code",
   "execution_count": 61,
   "id": "27cae4c5-540c-48c1-a847-8b590efcb95c",
   "metadata": {
    "tags": []
   },
   "outputs": [],
   "source": [
    "def intmul(list1):\n",
    "    list2 = []\n",
    "    for i in list1:\n",
    "        if(type(i) == int):\n",
    "            list2.append(i)\n",
    "        elif(type(i) == list):\n",
    "            for j in i:\n",
    "                list2.append(j)\n",
    "        elif(type(i) == bool):\n",
    "            list2.append(i)\n",
    "        elif(type(i) == tuple):\n",
    "            for j in i:\n",
    "                list2.append(j)\n",
    "        elif(type(i) == set):\n",
    "            for j in i:\n",
    "                list2.append(j)\n",
    "        elif(type(i) == str):\n",
    "            list2.append(i)\n",
    "        elif(type(i) == dict):\n",
    "            for j in i:\n",
    "                list2.append(j)\n",
    "            for k in i.values():\n",
    "                if(type(k) == int):\n",
    "                    list2.append(k)\n",
    "                elif(type(k) == list):\n",
    "                    for l in k:\n",
    "                        list2.append(l)\n",
    "                elif(type(k) == tuple):\n",
    "                    for l in k:\n",
    "                        list2.append(l)\n",
    "        \n",
    "    mul = 1\n",
    "    for i in list2:\n",
    "        if(type(i) == int):\n",
    "            mul = mul * i\n",
    "    return mul\n",
    "            "
   ]
  },
  {
   "cell_type": "code",
   "execution_count": 62,
   "id": "a9085a4c-844f-4dea-900e-da0ead9b4841",
   "metadata": {},
   "outputs": [
    {
     "data": {
      "text/plain": [
       "4134711838987085478833841242112000"
      ]
     },
     "execution_count": 62,
     "metadata": {},
     "output_type": "execute_result"
    }
   ],
   "source": [
    "intmul([1,2,3,4, [44,55,66, True], False, (34,56,78,89,34), {1,2,3,3,2,1}, {1:34, \"key2\": [55, 67, 78, 89], 4: (45,\n",
    "22, 61, 34)}, [56, 'data science'], 'Machine Learning'])"
   ]
  },
  {
   "cell_type": "code",
   "execution_count": 30,
   "id": "2de6017e-b265-4935-8ac0-8f870202f685",
   "metadata": {},
   "outputs": [
    {
     "name": "stdout",
     "output_type": "stream",
     "text": [
      "r\n",
      "$\n",
      "r\n",
      "d\n",
      "z\n",
      "m\n",
      "g\n",
      "$\n",
      "g\n",
      "g\n",
      "l\n",
      "$\n",
      "l\n",
      "y\n",
      "v\n",
      "x\n",
      "l\n",
      "n\n",
      "v\n",
      "$\n",
      "v\n",
      "z\n",
      "$\n",
      "z\n",
      "w\n",
      "z\n",
      "g\n",
      "z\n",
      "$\n",
      "z\n",
      "h\n",
      "x\n",
      "r\n",
      "v\n",
      "m\n",
      "g\n",
      "r\n",
      "h\n",
      "g\n"
     ]
    }
   ],
   "source": [
    "d = \"I want to become a Data Scientist\"\n",
    "a = d.lower()\n",
    "\n",
    "for i in a:\n",
    "    if(i == \" \"):\n",
    "        print(\"$\")\n",
    "    for j in range(97,123):\n",
    "        if(ord(i)==j):\n",
    "            num = 122 - (j-97)\n",
    "            \n",
    "    print(chr(num))\n",
    "            \n",
    "\n",
    "    \n",
    "            \n",
    "        \n"
   ]
  },
  {
   "cell_type": "code",
   "execution_count": null,
   "id": "e60483f4-d9ba-439d-a5f8-5e41f92683a8",
   "metadata": {
    "tags": []
   },
   "outputs": [],
   "source": [
    "\n",
    "            \n",
    "    "
   ]
  },
  {
   "cell_type": "code",
   "execution_count": null,
   "id": "c637029b-794d-45cd-8d21-277caeff8565",
   "metadata": {},
   "outputs": [],
   "source": []
  },
  {
   "cell_type": "code",
   "execution_count": null,
   "id": "046c5d24-4d2d-4ea6-9525-ab5bb2d635f3",
   "metadata": {},
   "outputs": [],
   "source": []
  }
 ],
 "metadata": {
  "kernelspec": {
   "display_name": "Python 3 (ipykernel)",
   "language": "python",
   "name": "python3"
  },
  "language_info": {
   "codemirror_mode": {
    "name": "ipython",
    "version": 3
   },
   "file_extension": ".py",
   "mimetype": "text/x-python",
   "name": "python",
   "nbconvert_exporter": "python",
   "pygments_lexer": "ipython3",
   "version": "3.10.0"
  }
 },
 "nbformat": 4,
 "nbformat_minor": 5
}
